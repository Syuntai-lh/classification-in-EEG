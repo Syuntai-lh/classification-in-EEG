{
 "cells": [
  {
   "cell_type": "markdown",
   "metadata": {},
   "source": [
    "<center><h1>Least-Squares Support Vector machine</h1></center>"
   ]
  },
  {
   "cell_type": "markdown",
   "metadata": {},
   "source": [
    "## Summary:\n",
    "1. [Introduction](#introduction)\n",
    "\n",
    "2. [LSSVM CPU implementation](#lssvm_cpu)\n",
    "    \n",
    "3. [LSSVM GPU implementation](#lssvm_gpu)\n",
    "\n",
    "4. [Discussing performance](#discussing_performance)"
   ]
  },
  {
   "cell_type": "markdown",
   "metadata": {},
   "source": [
    "# 1. Introduction <a class=\"anchor\" id=\"introduction\"></a>"
   ]
  },
  {
   "cell_type": "markdown",
   "metadata": {},
   "source": [
    "The Least-Squares Support Vector Machine (LSSVM) is a variation of the original Support Vector Machine (SVM) in which we have a slight change in the objective and restriction functions that results in a big simplification of the optimization problem.\n",
    "\n",
    "First, let's see the optimization problem of an SVM:\n",
    "\n",
    "$$ \n",
    "\\begin{align}\n",
    "    minimize && f_o(\\vec{w},\\vec{\\xi})=\\frac{1}{2} \\vec{w}^T\\vec{w} + C \\sum_{i=1}^{n} \\xi_i &&\\\\\n",
    "    s.t. && d_i(\\vec{w}^T\\vec{x}_i+b)\\geq 1 - \\xi_i, && i = 1,..., n \\\\\n",
    "         && \\xi_i \\geq 0,                            && i = 1,..., n\n",
    "\\end{align}\n",
    "$$\n",
    "\n",
    "In this case, we have a set of inequality restrictions and when solving the optimization problem by it's dual we find a discriminative function, adding the kernel trick, of the type:\n",
    "\n",
    "\n",
    "$$ f(\\vec{x}) = sign \\ \\Big( \\sum_{i=1}^{n} \\alpha_i^o d_i K(\\vec{x}_i,\\vec{x}) + b_o \\Big) $$\n",
    "\n",
    "Where $\\alpha_i^o$ and $b_o$ denote optimum values. Giving enough regularization (smaller values of $C$) we get a lot of $\\alpha_i^o$ nulls, resulting in a sparse model in which we only need to save the pairs $(\\vec{x}_i,d_i)$ which have the optimum dual variable not null. The vectors $\\vec{x}_i$ with not null $\\alpha_i^o$ are known as support vectors (SV).\n",
    "\n",
    "\n",
    "\n",
    "In the LSSVM case, we change the inequality restrictions to equality restrictions. As the $\\xi_i$ may be negative we square its values in the objective function:\n",
    "\n",
    "$$ \n",
    "\\begin{align}\n",
    "    minimize && f_o(\\vec{w},\\vec{\\xi})=\\frac{1}{2} \\vec{w}^T\\vec{w} + \\gamma \\frac{1}{2}\\sum_{i=1}^{n} \\xi_i^2 &&\\\\\n",
    "    s.t. && d_i(\\vec{w}^T\\vec{x}_i+b) = 1 - \\xi_i, && i = 1,..., n\n",
    "\\end{align}\n",
    "$$\n",
    "\n",
    "\n",
    "The dual of this optimization problem results in a system of linear equations, a set of Karush-Khun-Tucker (KKT) equations:\n",
    "\n",
    "$$\n",
    "\\begin{bmatrix} \n",
    "    0 & \\vec{d}^T \\\\\n",
    "    \\vec{d} & \\Omega + \\gamma^{-1} I \n",
    "\\end{bmatrix}\n",
    "\\\n",
    "\\begin{bmatrix} \n",
    "    b  \\\\\n",
    "    \\vec{\\alpha}\n",
    "\\end{bmatrix}\n",
    "=\n",
    "\\begin{bmatrix} \n",
    "    0 \\\\\n",
    "    \\vec{1}\n",
    "\\end{bmatrix}\n",
    "$$\n",
    "\n",
    "Where, with the kernel trick, &nbsp; $\\Omega_{i,j} = d_i d_j K(\\vec{x}_i,\\vec{x}_j)$,  &nbsp;  $\\vec{d} = [d_1 \\ d_2 \\ ... \\ d_n]^T$, &nbsp; $\\vec{\\alpha} = [\\alpha_1 \\ \\alpha_2 \\ ... \\ \\alpha_n]^T$ &nbsp;  e &nbsp; $\\vec{1} = [1 \\ 1 \\ ... \\ 1]^T$.\n",
    "\n",
    "The discriminative function of the LSSVM has the same form of the SVM but the $\\alpha_i^o$ aren't usually null, resulting in a bigger model. The big advantage of the LSSVM is in finding it's parameters, which is reduced to solving the linear system of the type:\n",
    "\n",
    "$$ A\\vec{x} = \\vec{b} $$\n",
    "\n",
    "A well-known solution of the linear system is when we minimize the square of the residues, that can be written as the optimization problem:\n",
    "\n",
    "$$\n",
    "\\begin{align}\n",
    "    minimize && f_o(\\vec{x})=\\frac{1}{2}||A\\vec{x} - \\vec{b}||^2\\\\\n",
    "\\end{align}\n",
    "$$\n",
    "\n",
    "And have the analytical solution:\n",
    "\n",
    "$$ \\vec{x} = A^{\\dagger} \\vec{b} $$\n",
    "\n",
    "Where $A^{\\dagger}$ is the pseudo-inverse defined as:\n",
    "\n",
    "$$ A^{\\dagger} = (A^T A)^{-1} A^T$$"
   ]
  },
  {
   "cell_type": "markdown",
   "metadata": {},
   "source": [
    "# 2. LSSVM CPU implementation <a class=\"anchor\" id=\"lssvm_cpu\"></a>"
   ]
  },
  {
   "cell_type": "code",
   "execution_count": 1,
   "metadata": {},
   "outputs": [],
   "source": [
    "import numpy as np\n",
    "from numpy import dot, exp\n",
    "from scipy.spatial.distance import cdist\n",
    "class LSSVM:\n",
    "    'Class that implements the Least-Squares Support Vector Machine.'\n",
    "    def __init__(self, gamma=1, kernel='rbf', **kernel_params): \n",
    "        self.gamma = gamma      \n",
    "        self.x        = None\n",
    "        self.y        = None\n",
    "        self.y_labels = None     \n",
    "        # model params\n",
    "        self.alpha = None\n",
    "        self.b     = None\n",
    "        self.kernel = LSSVM.get_kernel(kernel, **kernel_params)        \n",
    "    @staticmethod\n",
    "    def get_kernel(name, **params):   \n",
    "        def linear(x_i, x_j):                           \n",
    "            return dot(x_i,x_j.T)     \n",
    "        \n",
    "        def polynomial(x_i, x_j, d=params.get('d',3),c=params.get('c',0)):        \n",
    "            return (dot(x_i,x_j.T)+c)**d   \n",
    "        \n",
    "        def gaussian(x_i, x_j, sigma=params.get('sigma',1)):\n",
    "            if x_i.ndim==x_i.ndim and x_i.ndim==2:\n",
    "                return exp(-cdist(x_i,x_j)**2/sigma**2)       \n",
    "            else: \n",
    "                return exp(-(dot(x_i,x_i.T)+dot(x_j,x_j.T)-2*dot(x_i,x_j))/sigma**2)\n",
    "            \n",
    "        def exponential(x_i, x_j, sigma=params.get('sigma',1)):\n",
    "            if x_i.ndim==x_i.ndim and x_i.ndim==2:\n",
    "                return exp(-cdist(x_i,x_j)/sigma**2)       \n",
    "            else: \n",
    "                return exp(-np.sqrt((2-2*dot(x_i,x_j)))/sigma**2)   \n",
    "            \n",
    "        def sigmoid(x_i, x_j, c=params.get('c',0)):                           \n",
    "            return np.tanh(dot(x_i,x_j.T)+c)  \n",
    "         \n",
    "        kernels = {'linear': linear, 'polynomial': polynomial, 'gaussian': gaussian, \n",
    "                   'exponential':exponential, 'sigmoid':sigmoid}        \n",
    "        if kernels.get(name) is None: \n",
    "            raise KeyError(\"Kernel '{}' is not defined, try one in the list: {}.\".format(\n",
    "                name, list(kernels.keys())))\n",
    "        else: return kernels[name]\n",
    "    def opt_params(self, X, y_values):\n",
    "        sigma = np.multiply( y_values*y_values.T, self.kernel(X,X) )\n",
    "        A_cross = np.linalg.pinv(np.block([\n",
    "            [0,                           y_values.T                   ],\n",
    "            [y_values,   sigma + self.gamma**-1 * np.eye(len(y_values))]\n",
    "        ]))\n",
    "        B = np.array([0]+[1]*len(y_values))\n",
    "        solution = dot(A_cross, B)\n",
    "        b     = solution[0]\n",
    "        alpha = solution[1:] \n",
    "        return (b, alpha) \n",
    "    def fit(self, X, Y, verboses=0):\n",
    "        self.x = X\n",
    "        self.y = Y\n",
    "        self.y_labels = np.unique(Y, axis=0)\n",
    "        if len(self.y_labels)==2: # binary classification\n",
    "            # converting to -1/+1\n",
    "            y_values = np.where(\n",
    "                (Y == self.y_labels[0]).all(axis=1)\n",
    "                ,-1,+1)[:,np.newaxis] # making it a column vector   \n",
    "            self.b, self.alpha = self.opt_params(X, y_values)  \n",
    "        else: # multiclass classification\n",
    "              # ONE-VS-ALL APPROACH\n",
    "            n_classes = len(self.y_labels)\n",
    "            self.b     = np.zeros(n_classes)\n",
    "            self.alpha = np.zeros((n_classes, len(Y)))\n",
    "            for i in range(n_classes):\n",
    "                # converting to +1 for the desired class and -1 for all other classes\n",
    "                y_values = np.where(\n",
    "                    (Y == self.y_labels[i]).all(axis=1)\n",
    "                    ,+1,-1)[:,np.newaxis] # making it a column vector\n",
    "                self.b[i], self.alpha[i] = self.opt_params(X, y_values)     \n",
    "    def predict(self, X):\n",
    "        K = self.kernel(self.x, X)    \n",
    "        if len(self.y_labels)==2: # binary classification\n",
    "            y_values = np.where(\n",
    "                (self.y == self.y_labels[0]).all(axis=1),\n",
    "                -1,+1)[:,np.newaxis] # making it a column vector\n",
    "            Y = np.sign(dot( np.multiply(self.alpha, y_values.flatten()), K ) + self.b)  \n",
    "            y_predict_proba = dot( np.multiply(self.alpha, y_values.flatten()), K ) + self.b\n",
    "            y_pred_labels = np.where(Y==-1, self.y_labels[0], \n",
    "                                     self.y_labels[1])     \n",
    "        else: # multiclass classification, ONE-VS-ALL APPROACH\n",
    "            Y = np.zeros((len(self.y_labels), len(X)))\n",
    "            for i in range(len(self.y_labels)):\n",
    "                y_values = np.where(\n",
    "                    (self.y == self.y_labels[i]).all(axis=1),\n",
    "                    +1, -1)[:,np.newaxis] # making it a column vector\n",
    "                Y[i] = dot( np.multiply(self.alpha[i], y_values.flatten()), K ) + self.b[i] # no sign function applied        \n",
    "            predictions = np.argmax(Y, axis=0)\n",
    "            y_pred_labels = np.array([self.y_labels[i] for i in predictions])\n",
    "        return y_pred_labels, y_predict_proba"
   ]
  },
  {
   "cell_type": "markdown",
   "metadata": {},
   "source": [
    "Running a single test in all data sets:"
   ]
  },
  {
   "cell_type": "code",
   "execution_count": 2,
   "metadata": {},
   "outputs": [],
   "source": [
    "import scipy.io as scio\n",
    "\n",
    "dataFile = 'finally experiment data\\S1_train_value_WPE_1.mat'\n",
    "xTr_n = scio.loadmat(dataFile)['S1_train_value_WPE_1']\n",
    "dataFile = 'finally experiment data\\S1_test_value_WPE_1.mat'\n",
    "xTe_n = scio.loadmat(dataFile)['S1_test_value_WPE_1']\n",
    "\n",
    "dataFile = 'finally experiment data\\yTr.mat'\n",
    "yTr = scio.loadmat(dataFile)['yTr']\n",
    "dataFile = 'finally experiment data\\yTe.mat'\n",
    "yTe = scio.loadmat(dataFile)['yTe']"
   ]
  },
  {
   "cell_type": "code",
   "execution_count": 3,
   "metadata": {},
   "outputs": [],
   "source": [
    "from sklearn.model_selection import train_test_split\n",
    "from sklearn.metrics import accuracy_score\n",
    "from sklearn.metrics import confusion_matrix\n",
    "import matplotlib.pyplot as plt  \n",
    "import numpy as np  \n",
    "from sklearn.metrics import roc_curve, auc\n",
    "import matplotlib as mpl  \n",
    "import matplotlib.pyplot as plt"
   ]
  },
  {
   "cell_type": "code",
   "execution_count": 4,
   "metadata": {},
   "outputs": [
    {
     "name": "stdout",
     "output_type": "stream",
     "text": [
      "2858\n"
     ]
    }
   ],
   "source": [
    "gamma_array = np.arange(-1000, 1000, .7)\n",
    "print(len(gamma_array))\n",
    "Accuracy_array = []\n",
    "for i in range(len(gamma_array)):\n",
    "    lssvm = LSSVM(gamma=float(gamma_array[i]), kernel='linear')\n",
    "    lssvm.fit(xTr_n, yTr)\n",
    "    y_pred_labels_linear, y_predict_proba_linear = lssvm.predict(xTe_n)\n",
    "    C = confusion_matrix(yTe, y_pred_labels_linear)\n",
    "    TP = C[0][0]\n",
    "    FP = C[0][1]\n",
    "    FN = C[1][0]\n",
    "    TN = C[1][1]\n",
    "    Accuracy = (TP+TN)/(TP+FP+TN+FN)\n",
    "    Accuracy_array.append(Accuracy)"
   ]
  },
  {
   "cell_type": "code",
   "execution_count": 5,
   "metadata": {},
   "outputs": [
    {
     "name": "stdout",
     "output_type": "stream",
     "text": [
      "0.8611111111111112\n",
      "1458\n",
      "20.600000000066302\n"
     ]
    }
   ],
   "source": [
    "print(max(Accuracy_array))\n",
    "print(Accuracy_array.index(max(Accuracy_array)))\n",
    "print(gamma_array[Accuracy_array.index(max(Accuracy_array))])"
   ]
  },
  {
   "cell_type": "code",
   "execution_count": 6,
   "metadata": {},
   "outputs": [
    {
     "name": "stdout",
     "output_type": "stream",
     "text": [
      "linear kernel\n",
      "Accuracy  0.8611111111111112\n",
      "Precision  0.7777777777777778\n",
      "Recall  0.9333333333333333\n",
      "Specificity  0.8095238095238095\n",
      "F1  0.8484848484848485\n",
      "[[56 16]\n",
      " [ 4 68]]\n"
     ]
    }
   ],
   "source": [
    "print('linear kernel')\n",
    "lssvm = LSSVM(gamma=gamma_array[Accuracy_array.index(max(Accuracy_array))], kernel='linear')\n",
    "lssvm.fit(xTr_n, yTr)\n",
    "y_pred_labels_linear, y_predict_proba_linear = lssvm.predict(xTe_n)\n",
    "C = confusion_matrix(yTe, y_pred_labels_linear)\n",
    "scio.savemat('y_predict_proba_linear.mat',{\"y_predict_proba_linear\":y_predict_proba_linear})\n",
    "TP = C[0][0]\n",
    "FP = C[0][1]\n",
    "FN = C[1][0]\n",
    "TN = C[1][1]\n",
    "Accuracy = (TP+TN)/(TP+FP+TN+FN)\n",
    "Precision = TP/(TP+FP)\n",
    "Recall = TP/(TP+FN)\n",
    "Specificity = TN/(TN+FP)\n",
    "F1 = (2*Precision*Recall)/(Precision+Recall)\n",
    "print('Accuracy ',Accuracy)\n",
    "print('Precision ',Precision)\n",
    "print('Recall ',Recall)\n",
    "print('Specificity ',Specificity)\n",
    "print('F1 ',F1)\n",
    "print(C)"
   ]
  },
  {
   "cell_type": "code",
   "execution_count": 7,
   "metadata": {},
   "outputs": [
    {
     "name": "stdout",
     "output_type": "stream",
     "text": [
      "2858\n",
      "200\n"
     ]
    }
   ],
   "source": [
    "gamma_array = np.arange(-1000, 1000, .7)\n",
    "sigma_array = np.arange(0.1, 100, .5)\n",
    "print(len(gamma_array))\n",
    "print(len(sigma_array))\n",
    "\n",
    "Accuracy_array = np.zeros([len(gamma_array),len(sigma_array)])\n",
    "for i in range(len(gamma_array)):\n",
    "    for j in range(len(sigma_array)):\n",
    "        lssvm = LSSVM(gamma=gamma_array[i], kernel='gaussian', sigma=sigma_array[j])\n",
    "        lssvm.fit(xTr_n, yTr)\n",
    "        y_pred_labels_gaussian, y_predict_proba_gaussian = lssvm.predict(xTe_n)\n",
    "        C = confusion_matrix(yTe, y_pred_labels_gaussian)\n",
    "        TP = C[0][0]\n",
    "        FP = C[0][1]\n",
    "        FN = C[1][0]\n",
    "        TN = C[1][1]\n",
    "        Accuracy = (TP+TN)/(TP+FP+TN+FN)\n",
    "        Accuracy_array[i][j] = Accuracy\n",
    "            "
   ]
  },
  {
   "cell_type": "code",
   "execution_count": 8,
   "metadata": {},
   "outputs": [
    {
     "name": "stdout",
     "output_type": "stream",
     "text": [
      "571600\n",
      "0.9375\n",
      "45.100000000067894\n",
      "0.6\n"
     ]
    }
   ],
   "source": [
    "print(Accuracy_array.size)\n",
    "print(Accuracy_array.max())\n",
    "index = np.where(Accuracy_array==np.max(Accuracy_array))\n",
    "print(gamma_array[index[0][0]])\n",
    "print(sigma_array[index[1][0]])"
   ]
  },
  {
   "cell_type": "code",
   "execution_count": 9,
   "metadata": {},
   "outputs": [
    {
     "name": "stdout",
     "output_type": "stream",
     "text": [
      "gaussian kernel\n",
      "Accuracy  0.9375\n",
      "Precision  0.8888888888888888\n",
      "Recall  0.9846153846153847\n",
      "Specificity  0.8987341772151899\n",
      "F1  0.9343065693430657\n",
      "[[64  8]\n",
      " [ 1 71]]\n"
     ]
    }
   ],
   "source": [
    "print('gaussian kernel')\n",
    "lssvm = LSSVM(gamma=gamma_array[index[0][0]], kernel='gaussian', sigma=sigma_array[index[1][0]])\n",
    "lssvm.fit(xTr_n, yTr)\n",
    "y_pred_labels_gaussian, y_predict_proba_gaussian = lssvm.predict(xTe_n)\n",
    "C = confusion_matrix(yTe, y_pred_labels_gaussian)\n",
    "scio.savemat('y_predict_proba_gaussian.mat',{\"y_predict_proba_gaussian\":y_predict_proba_gaussian})\n",
    "TP = C[0][0]\n",
    "FP = C[0][1]\n",
    "FN = C[1][0]\n",
    "TN = C[1][1]\n",
    "Accuracy = (TP+TN)/(TP+FP+TN+FN)\n",
    "Precision = TP/(TP+FP)\n",
    "Recall = TP/(TP+FN)\n",
    "Specificity = TN/(TN+FP)\n",
    "F1 = (2*Precision*Recall)/(Precision+Recall)\n",
    "print('Accuracy ',Accuracy)\n",
    "print('Precision ',Precision)\n",
    "print('Recall ',Recall)\n",
    "print('Specificity ',Specificity)\n",
    "print('F1 ',F1)\n",
    "print(C)"
   ]
  },
  {
   "cell_type": "code",
   "execution_count": 10,
   "metadata": {},
   "outputs": [
    {
     "name": "stdout",
     "output_type": "stream",
     "text": [
      "2858\n",
      "200\n"
     ]
    }
   ],
   "source": [
    "gamma_array = np.arange(-1000, 1000, .7)\n",
    "sigma_array = np.arange(0.1, 100, .5)\n",
    "print(len(gamma_array))\n",
    "print(len(sigma_array))\n",
    "\n",
    "Accuracy_array = np.zeros([len(gamma_array),len(sigma_array)])\n",
    "for i in range(len(gamma_array)):\n",
    "    for j in range(len(sigma_array)):\n",
    "        lssvm = LSSVM(gamma=gamma_array[i], kernel='exponential', sigma=sigma_array[j])\n",
    "        lssvm.fit(xTr_n, yTr)\n",
    "        y_pred_labels_exponential, y_predict_proba_exponential = lssvm.predict(xTe_n)\n",
    "        C = confusion_matrix(yTe, y_pred_labels_exponential)\n",
    "        TP = C[0][0]\n",
    "        FP = C[0][1]\n",
    "        FN = C[1][0]\n",
    "        TN = C[1][1]\n",
    "        Accuracy = (TP+TN)/(TP+FP+TN+FN)\n",
    "        Accuracy_array[i][j] = Accuracy\n",
    "            "
   ]
  },
  {
   "cell_type": "code",
   "execution_count": 11,
   "metadata": {},
   "outputs": [
    {
     "name": "stdout",
     "output_type": "stream",
     "text": [
      "571600\n",
      "0.9375\n",
      "-931.3999999999955\n",
      "9.6\n"
     ]
    }
   ],
   "source": [
    "print(Accuracy_array.size)\n",
    "print(Accuracy_array.max())\n",
    "index = np.where(Accuracy_array==np.max(Accuracy_array))\n",
    "print(gamma_array[index[0][0]])\n",
    "print(sigma_array[index[1][0]])"
   ]
  },
  {
   "cell_type": "code",
   "execution_count": 12,
   "metadata": {},
   "outputs": [
    {
     "name": "stdout",
     "output_type": "stream",
     "text": [
      "exponential kernel\n",
      "Accuracy  0.9375\n",
      "Precision  0.8888888888888888\n",
      "Recall  0.9846153846153847\n",
      "Specificity  0.8987341772151899\n",
      "F1  0.9343065693430657\n",
      "[[64  8]\n",
      " [ 1 71]]\n"
     ]
    }
   ],
   "source": [
    "print('exponential kernel')\n",
    "lssvm = LSSVM(gamma=gamma_array[index[0][0]], kernel='exponential', sigma=sigma_array[index[1][0]])\n",
    "lssvm.fit(xTr_n, yTr)\n",
    "y_pred_labels_exponential, y_predict_proba_exponential = lssvm.predict(xTe_n)\n",
    "C = confusion_matrix(yTe, y_pred_labels_exponential)\n",
    "scio.savemat('y_predict_proba_exponential.mat',{\"y_predict_proba_exponential\":y_predict_proba_exponential})\n",
    "TP = C[0][0]\n",
    "FP = C[0][1]\n",
    "FN = C[1][0]\n",
    "TN = C[1][1]\n",
    "Accuracy = (TP+TN)/(TP+FP+TN+FN)\n",
    "Precision = TP/(TP+FP)\n",
    "Recall = TP/(TP+FN)\n",
    "Specificity = TN/(TN+FP)\n",
    "F1 = (2*Precision*Recall)/(Precision+Recall)\n",
    "print('Accuracy ',Accuracy)\n",
    "print('Precision ',Precision)\n",
    "print('Recall ',Recall)\n",
    "print('Specificity ',Specificity)\n",
    "print('F1 ',F1)\n",
    "print(C)"
   ]
  },
  {
   "cell_type": "code",
   "execution_count": 13,
   "metadata": {},
   "outputs": [
    {
     "name": "stdout",
     "output_type": "stream",
     "text": [
      "2858\n",
      "40\n"
     ]
    }
   ],
   "source": [
    "gamma_array = np.arange(-1000, 1000, .7)\n",
    "c_array = np.arange(-10, 10, .5)\n",
    "print(len(gamma_array))\n",
    "print(len(c_array))\n",
    "\n",
    "Accuracy_array = np.zeros([len(gamma_array),len(c_array)])\n",
    "for i in range(len(gamma_array)):\n",
    "    for j in range(len(c_array)):\n",
    "        lssvm = LSSVM(gamma=gamma_array[i], kernel='sigmoid',c=c_array[j])\n",
    "        lssvm.fit(xTr_n, yTr)\n",
    "        y_pred_labels_sigmoid, y_predict_proba_sigmoid = lssvm.predict(xTe_n)\n",
    "        C = confusion_matrix(yTe, y_pred_labels_sigmoid)\n",
    "        TP = C[0][0]\n",
    "        FP = C[0][1]\n",
    "        FN = C[1][0]\n",
    "        TN = C[1][1]\n",
    "        Accuracy = (TP+TN)/(TP+FP+TN+FN)\n",
    "        Accuracy_array[i][j] = Accuracy\n",
    "            "
   ]
  },
  {
   "cell_type": "code",
   "execution_count": 14,
   "metadata": {},
   "outputs": [
    {
     "name": "stdout",
     "output_type": "stream",
     "text": [
      "114320\n",
      "0.9166666666666666\n",
      "-1000.0\n",
      "-0.5\n"
     ]
    }
   ],
   "source": [
    "print(Accuracy_array.size)\n",
    "print(Accuracy_array.max())\n",
    "index = np.where(Accuracy_array==np.max(Accuracy_array))\n",
    "print(gamma_array[index[0][0]])\n",
    "print(c_array[index[1][0]])"
   ]
  },
  {
   "cell_type": "code",
   "execution_count": 15,
   "metadata": {},
   "outputs": [
    {
     "name": "stdout",
     "output_type": "stream",
     "text": [
      "sigmoid kernel\n",
      "Accuracy  0.9166666666666666\n",
      "Precision  0.8333333333333334\n",
      "Recall  1.0\n",
      "Specificity  0.8571428571428571\n",
      "F1  0.9090909090909091\n",
      "[[60 12]\n",
      " [ 0 72]]\n"
     ]
    }
   ],
   "source": [
    "print('sigmoid kernel')\n",
    "lssvm = LSSVM(gamma=gamma_array[index[0][0]], kernel='sigmoid',c=c_array[index[1][0]])\n",
    "lssvm.fit(xTr_n, yTr)\n",
    "y_pred_labels_sigmoid, y_predict_proba_sigmoid = lssvm.predict(xTe_n)\n",
    "C = confusion_matrix(yTe, y_pred_labels_sigmoid)\n",
    "scio.savemat('y_predict_proba_sigmoid.mat',{\"y_predict_proba_sigmoid\":y_predict_proba_sigmoid})\n",
    "TP = C[0][0]\n",
    "FP = C[0][1]\n",
    "FN = C[1][0]\n",
    "TN = C[1][1]\n",
    "Accuracy = (TP+TN)/(TP+FP+TN+FN)\n",
    "Precision = TP/(TP+FP)\n",
    "Recall = TP/(TP+FN)\n",
    "Specificity = TN/(TN+FP)\n",
    "F1 = (2*Precision*Recall)/(Precision+Recall)\n",
    "print('Accuracy ',Accuracy)\n",
    "print('Precision ',Precision)\n",
    "print('Recall ',Recall)\n",
    "print('Specificity ',Specificity)\n",
    "print('F1 ',F1)\n",
    "print(C)"
   ]
  },
  {
   "cell_type": "code",
   "execution_count": 16,
   "metadata": {},
   "outputs": [
    {
     "name": "stdout",
     "output_type": "stream",
     "text": [
      "2858\n",
      "9\n",
      "40\n"
     ]
    }
   ],
   "source": [
    "gamma_array = np.arange(-1000, 1000, .7)\n",
    "d_array = np.arange(1, 10)\n",
    "c_array = np.arange(-10, 10, .5)\n",
    "print(len(gamma_array))\n",
    "print(len(d_array))\n",
    "print(len(c_array))\n",
    "\n",
    "Accuracy_array = np.zeros([len(gamma_array),len(d_array),len(c_array)])\n",
    "for i in range(len(gamma_array)):\n",
    "    for j in range(len(d_array)):\n",
    "        for k in range(len(c_array)):\n",
    "            lssvm = LSSVM(gamma=gamma_array[i], kernel='polynomial', d=d_array[j], c=c_array[k])\n",
    "            lssvm.fit(xTr_n, yTr)\n",
    "            y_pred_labels_polynomial, y_predict_proba_polynomial = lssvm.predict(xTe_n)\n",
    "            C = confusion_matrix(yTe, y_pred_labels_polynomial)\n",
    "            TP = C[0][0]\n",
    "            FP = C[0][1]\n",
    "            FN = C[1][0]\n",
    "            TN = C[1][1]\n",
    "            Accuracy = (TP+TN)/(TP+FP+TN+FN)\n",
    "            Accuracy_array[i][j][k] = Accuracy"
   ]
  },
  {
   "cell_type": "code",
   "execution_count": 17,
   "metadata": {},
   "outputs": [
    {
     "name": "stdout",
     "output_type": "stream",
     "text": [
      "1028880\n",
      "0.9513888888888888\n",
      "222.2000000000794\n",
      "3\n",
      "-0.5\n"
     ]
    }
   ],
   "source": [
    "print(Accuracy_array.size)\n",
    "print(Accuracy_array.max())\n",
    "index = np.where(Accuracy_array==np.max(Accuracy_array))\n",
    "print(gamma_array[index[0][0]])\n",
    "print(d_array[index[1][0]])\n",
    "print(c_array[index[2][0]])"
   ]
  },
  {
   "cell_type": "code",
   "execution_count": 18,
   "metadata": {
    "scrolled": true
   },
   "outputs": [
    {
     "name": "stdout",
     "output_type": "stream",
     "text": [
      "polynomial kernel\n",
      "Accuracy  0.9513888888888888\n",
      "Precision  0.9305555555555556\n",
      "Recall  0.9710144927536232\n",
      "Specificity  0.9333333333333333\n",
      "F1  0.9503546099290779\n",
      "[[67  5]\n",
      " [ 2 70]]\n"
     ]
    }
   ],
   "source": [
    "print('polynomial kernel')\n",
    "lssvm = LSSVM(gamma=gamma_array[index[0][0]], kernel='polynomial', d=d_array[index[1][0]], c=c_array[index[2][0]])\n",
    "lssvm.fit(xTr_n, yTr)\n",
    "y_pred_labels_polynomial, y_predict_proba_polynomial = lssvm.predict(xTe_n)\n",
    "C = confusion_matrix(yTe, y_pred_labels_polynomial)\n",
    "scio.savemat('y_predict_proba_polynomial.mat',{\"y_predict_proba_polynomial\":y_predict_proba_polynomial})\n",
    "TP = C[0][0]\n",
    "FP = C[0][1]\n",
    "FN = C[1][0]\n",
    "TN = C[1][1]\n",
    "Accuracy = (TP+TN)/(TP+FP+TN+FN)\n",
    "Precision = TP/(TP+FP)\n",
    "Recall = TP/(TP+FN)\n",
    "Specificity = TN/(TN+FP)\n",
    "F1 = (2*Precision*Recall)/(Precision+Recall)\n",
    "print('Accuracy ',Accuracy)\n",
    "print('Precision ',Precision)\n",
    "print('Recall ',Recall)\n",
    "print('Specificity ',Specificity)\n",
    "print('F1 ',F1)\n",
    "print(C)"
   ]
  },
  {
   "cell_type": "code",
   "execution_count": 19,
   "metadata": {},
   "outputs": [],
   "source": [
    "def plot_roc(labels, predict_prob, name):\n",
    "    false_positive_rate,true_positive_rate,thresholds=roc_curve(labels, predict_prob)\n",
    "    roc_auc=auc(false_positive_rate, true_positive_rate)\n",
    "    plt.title('Receiver Operating Characteristic curves')\n",
    "    label='AUC = %0.4f'% roc_auc\n",
    "    label = name+label\n",
    "    plt.plot(false_positive_rate, true_positive_rate,label=label)\n",
    "    plt.legend(loc='lower right')\n",
    "    plt.ylabel('TPR')\n",
    "    plt.xlabel('FPR')"
   ]
  },
  {
   "cell_type": "code",
   "execution_count": 20,
   "metadata": {},
   "outputs": [
    {
     "data": {
      "image/png": "[encoded data removed]",
      "text/plain": [
       "<Figure size 432x288 with 1 Axes>"
      ]
     },
     "metadata": {},
     "output_type": "display_data"
    }
   ],
   "source": [
    "plt.grid()  # 生成网格\n",
    "plot_roc(yTe,y_predict_proba_linear,name='linear kernel ')\n",
    "plot_roc(yTe,y_predict_proba_polynomial,name='polynomial kernel ')\n",
    "plot_roc(yTe,y_predict_proba_gaussian,name='gaussian kernel ')\n",
    "plot_roc(yTe,y_predict_proba_exponential,name='exponential kernel ')\n",
    "plot_roc(yTe,y_predict_proba_sigmoid,name='sigmoid kernel ')\n",
    "plt.plot([0,1],[0,1],'c--',label='lucky')\n",
    "plt.savefig(\"ROC.svg\",dpi=800)"
   ]
  }
 ],
 "metadata": {
  "kernelspec": {
   "display_name": "Python 3",
   "language": "python",
   "name": "python3"
  },
  "language_info": {
   "codemirror_mode": {
    "name": "ipython",
    "version": 3
   },
   "file_extension": ".py",
   "mimetype": "text/x-python",
   "name": "python",
   "nbconvert_exporter": "python",
   "pygments_lexer": "ipython3",
   "version": "3.6.6"
  },
  "toc": {
   "base_numbering": 1,
   "nav_menu": {},
   "number_sections": true,
   "sideBar": true,
   "skip_h1_title": false,
   "title_cell": "Table of Contents",
   "title_sidebar": "Contents",
   "toc_cell": false,
   "toc_position": {},
   "toc_section_display": true,
   "toc_window_display": false
  }
 },
 "nbformat": 4,
 "nbformat_minor": 4
}
