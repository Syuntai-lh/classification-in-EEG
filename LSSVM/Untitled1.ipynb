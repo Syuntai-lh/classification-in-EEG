{
 "cells": [
  {
   "cell_type": "code",
   "execution_count": 1,
   "metadata": {},
   "outputs": [],
   "source": [
    "import time\n",
    "import numpy as np\n",
    "import matplotlib.pyplot as plt\n",
    "from sklearn import datasets\n",
    "from sklearn import preprocessing\n",
    "from sklearn.model_selection import train_test_split\n",
    "from sklearn.feature_selection import SelectFromModel\n",
    "from sklearn.svm import LinearSVC,SVC\n",
    "from sklearn.metrics import classification_report,precision_score,confusion_matrix"
   ]
  },
  {
   "cell_type": "code",
   "execution_count": 2,
   "metadata": {},
   "outputs": [],
   "source": [
    "dataset = datasets.load_breast_cancer()\n",
    "X,y = dataset.data[0:100],dataset.target[0:100]\n",
    "sigma = 2\n",
    "gamma = 1\n",
    "x = preprocessing.StandardScaler().fit_transform(X)\n",
    "x_train,x_test,y_train,y_test = train_test_split(x,y,test_size=0.3,random_state=1)"
   ]
  },
  {
   "cell_type": "code",
   "execution_count": 5,
   "metadata": {},
   "outputs": [],
   "source": [
    "def featureSelction(x,y):\n",
    "    clf = LinearSVC(penalty='l1',C=1.0,dual=False)\n",
    "    clf.fit(x,y)\n",
    "    \n",
    "    model = SelectFromModel(clf,prefit=True)\n",
    "    tmp = model.transform(x)\n",
    "    common = []\n",
    "    for index in range(x.shape[1]):\n",
    "        if x[0,index] in list(tmp[0]):\n",
    "            common.append(index)\n",
    "    return common"
   ]
  },
  {
   "cell_type": "code",
   "execution_count": 6,
   "metadata": {},
   "outputs": [],
   "source": [
    "common = featureSelction(x_train,y_train)\n",
    "x_train = x_train[:,common]\n",
    "x_test = x_test[:,common]"
   ]
  },
  {
   "cell_type": "code",
   "execution_count": 7,
   "metadata": {},
   "outputs": [
    {
     "ename": "SyntaxError",
     "evalue": "invalid character in identifier (<ipython-input-7-c6aba35380b6>, line 2)",
     "output_type": "error",
     "traceback": [
      "\u001b[1;36m  File \u001b[1;32m\"<ipython-input-7-c6aba35380b6>\"\u001b[1;36m, line \u001b[1;32m2\u001b[0m\n\u001b[1;33m    x_asis = np.random.random((1,2))\u001b[0m\n\u001b[1;37m    ^\u001b[0m\n\u001b[1;31mSyntaxError\u001b[0m\u001b[1;31m:\u001b[0m invalid character in identifier\n"
     ]
    }
   ],
   "source": [
    "def FOA():\n",
    "    x_asis = np.random.random((1,2))\n",
    "    y_asis = np.random.random((1,2))\n",
    "    samples = 20\n",
    "    iter_times = 10\n",
    "    def searchPosition(x_asis,y_asis):\n",
    "        position = []\n",
    "        smell = []\n",
    "        for num in range(samples):\n",
    "            x = x_asis+2*np.random.rand()-1\n",
    "            y = y_asis+2*np.random.rand()-1\n",
    "            params = 1/np.sqrt(x**2+y**2)\n",
    "            accuracy = LSSVMClassifier(params[0,0],params[0,1])\n",
    "            position.append((x,y))\n",
    "        smell.append(accuracy)\n",
    "        index = np.argmax(smell)\n",
    "        bestX,bestY = position[index]\n",
    "        bestSmall = smell[index]\n",
    "        return bestX,bestY,bestSmell          \n",
    "         \n",
    "    start = time.time()\n",
    "    print('---FOA初始化开始---')       \n",
    "    bestX,bestY,bestSmell = searchPosition(x_asis,y_asis)\n",
    "    print('time:',time.time()-start)\n",
    "    def searchBestParams(bestX,bestY,bestSmell):\n",
    "        smell = [bestSmell]\n",
    "        for num in range(iter_times):\n",
    "            print(num,':',bestSmell)\n",
    "            x,y,accuracy = searchPosition(bestX,bestY)\n",
    "            \n",
    "        \n",
    "        \n",
    "            \n",
    "            \n",
    "            if accuracy > bestSmell:\n",
    "                bestX,bestY,bestSmell= x,y,accuracy\n",
    "            smell.append(bestSmell)\n",
    "        params = 1/np.sqrt((bestX**2+bestY**2))\n",
    "        print(params[0])\n",
    "        print('accuracy by LSSVM:',bestSmell)\n",
    "    begin = time.time()\n",
    "    print('---FOA寻优开始---')\n",
    "    searchBestParams(bestX,bestY,bestSmell)\n",
    "    print('end:',time.time()-begin)"
   ]
  },
  {
   "cell_type": "code",
   "execution_count": null,
   "metadata": {},
   "outputs": [],
   "source": [
    "def LSSVMClassifier(sigma,gamma):\n",
    "    def kernel(x,y,sigma):\n",
    "        return np.exp(-np.sum((x-y)**2,axis=0)/2*sigma**2)\n",
    "    def matrixOmega(x,y,sigma):\n",
    "        num = len(x)\n",
    "        mat = np.zeros((num,num))\n",
    "        for i in range(num):\n",
    "            for j in range(num):\n",
    "                k = y[i]*y[j]*kernel(x[i],x[j],sigma)\n",
    "                mat[i,j] = k\n",
    "        return mat   \n",
    "    mat = matrixOmega(x_train,y_train,sigma)\n",
    "    def getparams(x_train,y_train,mat,gamma,sigma):\n",
    "        length = len(x_train)+1\n",
    "        A = np.zeros((length,length))\n",
    "        A[0,1:length] = y_train.T\n",
    "        A[1:length,0] = y_train\n",
    "        A[1:length,1:length] = mat+np.eye(length-1)/gamma\n",
    "        B = np.zeros((length,1))\n",
    "        B[1:length] = np.ones((length-1,1))\n",
    "        result = np.linalg.solve(A,B)\n",
    "        a,b = result[0:-1],result[-1]\n",
    "        return a,b\n",
    "    a,b = getparams(x_train,y_train,mat,gamma,sigma)\n",
    "    def predictTestData(x_test,y_test,a,b):\n",
    "        result = np.zeros(len(x_test))\n",
    "        for i in range(len(x_test)):\n",
    "            result[i] = b[0]\n",
    "            for j in range(len(x_train)):\n",
    "                result[i] += a[i]*y_train[i]*kernel(x_test[i],x_train[j],sigma)\n",
    "                result[i] = np.sign(result[i])\n",
    "                accuracy = precision_score(y_test,result)\n",
    "        return accuracy      \n",
    "    accuracy = predictTestData(x_test,y_test,a,b)\n",
    "    return accuracy"
   ]
  },
  {
   "cell_type": "code",
   "execution_count": null,
   "metadata": {},
   "outputs": [],
   "source": [
    "FOA()"
   ]
  },
  {
   "cell_type": "code",
   "execution_count": null,
   "metadata": {},
   "outputs": [],
   "source": [
    "def trainModelBySVC():\n",
    "    clf = SVC()\n",
    "    clf.fit(x_train,y_train)\n",
    "    predict = clf.predict(x_test)\n",
    "    print('accuracy by SVM:',precision_score(y_test,predict))"
   ]
  },
  {
   "cell_type": "code",
   "execution_count": null,
   "metadata": {},
   "outputs": [],
   "source": [
    "trainModelBySVC()"
   ]
  }
 ],
 "metadata": {
  "kernelspec": {
   "display_name": "Python 3",
   "language": "python",
   "name": "python3"
  },
  "language_info": {
   "codemirror_mode": {
    "name": "ipython",
    "version": 3
   },
   "file_extension": ".py",
   "mimetype": "text/x-python",
   "name": "python",
   "nbconvert_exporter": "python",
   "pygments_lexer": "ipython3",
   "version": "3.6.6"
  },
  "toc": {
   "base_numbering": 1,
   "nav_menu": {},
   "number_sections": true,
   "sideBar": true,
   "skip_h1_title": false,
   "title_cell": "Table of Contents",
   "title_sidebar": "Contents",
   "toc_cell": false,
   "toc_position": {},
   "toc_section_display": true,
   "toc_window_display": false
  }
 },
 "nbformat": 4,
 "nbformat_minor": 2
}
